{
 "cells": [
  {
   "cell_type": "markdown",
   "id": "316cce50",
   "metadata": {},
   "source": [
    "#### Polynomial fitting using DEAP\n",
    "- Using an evolutionary algorithm, fit for the parameters a, b, c, and d to a third degree polynomial curve of the form y = ax^3 + bx^2 + cx + d.  \n",
    "- Refer to https://deap.readthedocs.io/en/master/ for the package documentation.\n",
    "\n",
    "#### Steps:\n",
    "\n",
    "a. [Prepare DEAP routine](#a)\n",
    "\n",
    "b. [Run genetic algorithm optimization](#b)\n",
    "\n",
    "c. [Compare Fitted Parameters to Dummy Data](#c)"
   ]
  },
  {
   "cell_type": "markdown",
   "id": "d32ddb1a",
   "metadata": {},
   "source": [
    "***"
   ]
  },
  {
   "cell_type": "markdown",
   "id": "15b0f9bb",
   "metadata": {},
   "source": [
    "#### a. Prepare DEAP Routine<a id='a'></a>"
   ]
  },
  {
   "cell_type": "code",
   "execution_count": 1,
   "id": "96ce08d8",
   "metadata": {},
   "outputs": [],
   "source": [
    "import random\n",
    "\n",
    "from deap import base\n",
    "from deap import creator\n",
    "from deap import tools\n",
    "\n",
    "import numpy as np\n",
    "\n",
    "from deap import algorithms\n",
    "\n",
    "import matplotlib.pyplot as plt\n",
    "\n",
    "numVariables=4\n",
    "\n",
    "creator.create(\"FitnessMin\", base.Fitness, weights=(-1.0,))\n",
    "creator.create(\"Individual\", list, fitness=creator.FitnessMin)\n",
    "\n",
    "toolbox = base.Toolbox()\n",
    "\n",
    "\n",
    "toolbox.register(\"attr_init\", random.uniform, -10, 10)\n",
    "\n",
    "toolbox.register(\"individual\", tools.initRepeat, creator.Individual, \n",
    "    toolbox.attr_init, numVariables)\n",
    "\n",
    "# define the population to be a list of individuals\n",
    "toolbox.register(\"population\", tools.initRepeat, list, toolbox.individual)\n",
    "\n",
    "\n",
    "#create the polynomial function\n",
    "def myFunc(pars):\n",
    "    \"\"\"Calculate a third degree polynomial: y = ax^3 + bx^2 + cx + d\n",
    "    \"\"\"\n",
    "    y = pars[0]*x**3 + pars[1]*x**2 + pars[2]*x + pars[3]\n",
    "    return y\n",
    "\n",
    "x=np.linspace(-10,10, 100)\n",
    "pars=[9, 3, 9, 2]\n",
    "noise=np.random.uniform(-500, 500,100)\n",
    "y=myFunc(pars)+noise\n",
    "\n",
    "def rmse(individual):\n",
    "    \"\"\"Calculate the root mean square error\n",
    "    \"\"\"\n",
    "    sse=np.average((y-myFunc(individual))**2)\n",
    "    return np.sqrt(sse), #a comma is somehow needed"
   ]
  },
  {
   "cell_type": "code",
   "execution_count": 2,
   "id": "e8b294fc",
   "metadata": {},
   "outputs": [],
   "source": [
    "#register all parameters\n",
    "\n",
    "toolbox.register(\"evaluate\", rmse)\n",
    "toolbox.register(\"mate\", tools.cxTwoPoint)\n",
    "toolbox.register(\"mutate\", tools.mutShuffleIndexes, indpb=0.5)\n",
    "#or\n",
    "#toolbox.register(\"mutate\", tools.mutFlipBit, indpb=0.5)\n",
    "\n",
    "#toolbox.register(\"mate\", tools.cxESBlend, alpha=0.1) #invalid\n",
    "#toolbox.register(\"mutate\", tools.mutESLogNormal, c=1.0, indpb=0.3) #invalid\n",
    "\n",
    "toolbox.register(\"select\", tools.selTournament, tournsize=3)"
   ]
  },
  {
   "cell_type": "markdown",
   "id": "c78c3209",
   "metadata": {},
   "source": [
    "#### b. Run Genetic Algorithm Optimization <a id='b'></a>"
   ]
  },
  {
   "cell_type": "code",
   "execution_count": 3,
   "id": "bbf6ea02",
   "metadata": {},
   "outputs": [
    {
     "name": "stdout",
     "output_type": "stream",
     "text": [
      "gen\tnevals\tavg    \tstd    \tmin    \tmax    \n",
      "0  \t200   \t3866.76\t2238.42\t295.583\t7481.06\n",
      "1  \t113   \t2095.69\t1508.7 \t295.583\t7076.86\n",
      "2  \t138   \t1244.61\t1210.23\t282.948\t6842.47\n",
      "3  \t117   \t843.193\t1187.12\t282.307\t7021.64\n",
      "4  \t119   \t574.722\t902.75 \t282.033\t6789.5 \n",
      "5  \t128   \t612.299\t985.914\t281.999\t6758.4 \n",
      "6  \t106   \t501.089\t841.593\t281.999\t6789   \n",
      "7  \t120   \t598.796\t993.914\t281.693\t6750.96\n",
      "8  \t133   \t493.158\t731.335\t281.693\t6786.82\n",
      "9  \t102   \t435.222\t503.854\t281.693\t2542.2 \n",
      "10 \t107   \t398.606\t419.634\t281.689\t2335.86\n",
      "11 \t128   \t408.203\t456.259\t281.689\t2382.98\n",
      "12 \t143   \t426.952\t504.229\t281.689\t2337.22\n",
      "13 \t131   \t344.333\t289.789\t281.689\t2337.22\n",
      "14 \t119   \t446.511\t538.243\t281.689\t2337.3 \n",
      "15 \t123   \t395.308\t425.059\t281.689\t2337.22\n",
      "16 \t115   \t373.853\t377.759\t281.689\t2337.22\n",
      "17 \t126   \t397.843\t425.279\t281.689\t2337.22\n",
      "18 \t122   \t416.867\t445.314\t281.689\t2332.11\n",
      "19 \t119   \t380.152\t378.459\t281.689\t2337.22\n",
      "20 \t125   \t351.664\t291.886\t281.689\t2337.22\n",
      "21 \t115   \t394.11 \t425.215\t281.689\t2337.22\n",
      "22 \t112   \t376.573\t377.919\t281.689\t2337.22\n",
      "23 \t124   \t387.397\t402.391\t281.689\t2337.22\n",
      "24 \t107   \t394.712\t446.573\t281.689\t2337.22\n",
      "25 \t106   \t385.306\t401.888\t281.689\t2337.22\n",
      "26 \t120   \t395.108\t402.048\t281.689\t2337.22\n",
      "27 \t128   \t404.383\t445.996\t281.689\t2337.22\n",
      "28 \t136   \t407.623\t445.944\t281.689\t2337.22\n",
      "29 \t114   \t400.177\t424.435\t281.689\t2337.22\n",
      "30 \t126   \t392.339\t424.638\t281.689\t2332.11\n",
      "31 \t124   \t369.888\t352.027\t281.689\t2337.22\n",
      "32 \t114   \t419.298\t465.883\t281.689\t2337.22\n",
      "33 \t109   \t406.33 \t445.648\t281.689\t2337.22\n",
      "34 \t108   \t414.322\t446.218\t281.689\t2337.22\n",
      "35 \t126   \t418.442\t423.861\t281.689\t2337.22\n",
      "36 \t127   \t370.328\t351.483\t281.689\t2337.22\n",
      "37 \t130   \t402.002\t424.566\t281.689\t2337.22\n",
      "38 \t126   \t403.738\t425.174\t281.689\t2337.22\n",
      "39 \t120   \t430.689\t503.568\t281.689\t2337.22\n",
      "40 \t113   \t429.705\t466.289\t281.689\t2337.22\n",
      "[9.007969930421133, 3.12199655815418, 9.956052825351733, 9.956052825351733]\n"
     ]
    }
   ],
   "source": [
    "def main():\n",
    "    random.seed(64)\n",
    "    \n",
    "    #create a population of size n\n",
    "    pop = toolbox.population(n=200)\n",
    "    hof = tools.HallOfFame(1)\n",
    "    stats = tools.Statistics(lambda ind: ind.fitness.values)\n",
    "    stats.register(\"avg\", np.mean)\n",
    "    stats.register(\"std\", np.std)\n",
    "    stats.register(\"min\", np.min)\n",
    "    stats.register(\"max\", np.max)\n",
    "\n",
    "    pop, log = algorithms.eaSimple(pop, toolbox, cxpb=0.5, mutpb=0.2, ngen=40, \n",
    "                                   stats=stats, halloffame=hof, verbose=True)\n",
    "\n",
    "    best=tools.selBest(pop,1)[0]\n",
    "    \n",
    "    print(best)\n",
    "    \n",
    "    return pop, stats, hof, best\n",
    "    \n",
    "if __name__ == \"__main__\":\n",
    "    res=main()\n"
   ]
  },
  {
   "cell_type": "markdown",
   "id": "3a3d0eb6",
   "metadata": {},
   "source": [
    "#### c. Compare Fitted Parameters to Dummy Data <a id='c'></a>"
   ]
  },
  {
   "cell_type": "code",
   "execution_count": 4,
   "id": "a2b67265",
   "metadata": {},
   "outputs": [
    {
     "name": "stdout",
     "output_type": "stream",
     "text": [
      "actual: [9, 3, 9, 2]\n",
      "fitted: [9.007969930421133, 3.12199655815418, 9.956052825351733, 9.956052825351733]\n",
      "rmse: 281.6893628119619\n"
     ]
    },
    {
     "data": {
      "image/png": "[encoded data removed]",
      "text/plain": [
       "<Figure size 640x480 with 1 Axes>"
      ]
     },
     "metadata": {},
     "output_type": "display_data"
    }
   ],
   "source": [
    "#actual: [9, 3, 9, 2]\n",
    "\n",
    "print(\"actual: %s\" %pars)\n",
    "print(\"fitted: %s\" %res[-1])\n",
    "print(\"rmse: %s\" %rmse(res[-1]))\n",
    "\n",
    "y_fit=myFunc(res[-1])\n",
    "plt.plot(x,y,'.')\n",
    "plt.plot(x,y_fit)\n",
    "plt.show()\n"
   ]
  },
  {
   "cell_type": "markdown",
   "id": "42ac95f3",
   "metadata": {},
   "source": [
    "***"
   ]
  }
 ],
 "metadata": {
  "kernelspec": {
   "display_name": "ga_py39",
   "language": "python",
   "name": "ga_py39"
  },
  "language_info": {
   "codemirror_mode": {
    "name": "ipython",
    "version": 3
   },
   "file_extension": ".py",
   "mimetype": "text/x-python",
   "name": "python",
   "nbconvert_exporter": "python",
   "pygments_lexer": "ipython3",
   "version": "3.9.12"
  }
 },
 "nbformat": 4,
 "nbformat_minor": 5
}
