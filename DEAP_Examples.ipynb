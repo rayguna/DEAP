{
 "cells": [
  {
   "cell_type": "markdown",
   "id": "316cce50",
   "metadata": {},
   "source": [
    "#### Polynomial fitting using DEAP\n",
    "- Using an evolutionary algorithm, fit for the parameters a, b, c, and d to a third degree polynomial curve of the form y = ax^3 + bx^2 + cx + d.  \n",
    "- Refer to https://deap.readthedocs.io/en/master/ for the package documentation.\n",
    "\n",
    "#### Steps:\n",
    "\n",
    "a. [Prepare DEAP routine](#a)\n",
    "\n",
    "b. [Run genetic algorithm optimization](#b)\n",
    "\n",
    "c. [Compare Fitted Parameters to Dummy Data](#c)"
   ]
  },
  {
   "cell_type": "markdown",
   "id": "d32ddb1a",
   "metadata": {},
   "source": [
    "***"
   ]
  },
  {
   "cell_type": "markdown",
   "id": "15b0f9bb",
   "metadata": {},
   "source": [
    "#### a. Prepare DEAP Routine<a id='a'></a>"
   ]
  },
  {
   "cell_type": "code",
   "execution_count": 1,
   "id": "96ce08d8",
   "metadata": {},
   "outputs": [],
   "source": [
    "import random\n",
    "\n",
    "from deap import base\n",
    "from deap import creator\n",
    "from deap import tools\n",
    "\n",
    "import numpy as np\n",
    "\n",
    "from deap import algorithms\n",
    "\n",
    "import matplotlib.pyplot as plt\n",
    "\n",
    "numVariables=4\n",
    "\n",
    "creator.create(\"FitnessMin\", base.Fitness, weights=(-1.0,))\n",
    "creator.create(\"Individual\", list, fitness=creator.FitnessMin)\n",
    "\n",
    "toolbox = base.Toolbox()\n",
    "\n",
    "\n",
    "toolbox.register(\"attr_init\", random.uniform, -10, 10)\n",
    "\n",
    "toolbox.register(\"individual\", tools.initRepeat, creator.Individual, \n",
    "    toolbox.attr_init, numVariables)\n",
    "\n",
    "# define the population to be a list of individuals\n",
    "toolbox.register(\"population\", tools.initRepeat, list, toolbox.individual)\n",
    "\n",
    "\n",
    "#create function=================================\n",
    "def myFunc(pars):\n",
    "    \"\"\"Calculate a third degree polynomial: y = ax^3 + bx^2 + cx + d\n",
    "    \"\"\"\n",
    "    y = pars[0]*x**3 + pars[1]*x**2 + pars[2]*x + pars[3]\n",
    "    return y\n",
    "\n",
    "x=np.linspace(-10,10, 100)\n",
    "pars=[9, 3, 9, 2]\n",
    "noise=np.random.uniform(-500, 500,100)\n",
    "y=myFunc(pars)+noise\n",
    "\n",
    "def rmse(individual):\n",
    "    \"\"\"Calculate the root mean square error\n",
    "    \"\"\"\n",
    "    sse=np.average((y-myFunc(individual))**2)\n",
    "    return np.sqrt(sse), #a comma is somehow needed\n",
    "#=================================================\n"
   ]
  },
  {
   "cell_type": "code",
   "execution_count": 2,
   "id": "e8b294fc",
   "metadata": {},
   "outputs": [],
   "source": [
    "#register all parameters\n",
    "\n",
    "toolbox.register(\"evaluate\", rmse)\n",
    "toolbox.register(\"mate\", tools.cxTwoPoint)\n",
    "toolbox.register(\"mutate\", tools.mutShuffleIndexes, indpb=0.5)\n",
    "#or\n",
    "#toolbox.register(\"mutate\", tools.mutFlipBit, indpb=0.5)\n",
    "\n",
    "#toolbox.register(\"mate\", tools.cxESBlend, alpha=0.1) #invalid\n",
    "#toolbox.register(\"mutate\", tools.mutESLogNormal, c=1.0, indpb=0.3) #invalid\n",
    "\n",
    "toolbox.register(\"select\", tools.selTournament, tournsize=3)"
   ]
  },
  {
   "cell_type": "markdown",
   "id": "c78c3209",
   "metadata": {},
   "source": [
    "#### b. Run Genetic Algorithm Optimization <a id='b'></a>"
   ]
  },
  {
   "cell_type": "code",
   "execution_count": 3,
   "id": "bbf6ea02",
   "metadata": {},
   "outputs": [
    {
     "name": "stdout",
     "output_type": "stream",
     "text": [
      "gen\tnevals\tavg   \tstd    \tmin    \tmax    \n",
      "0  \t200   \t3874.6\t2241.41\t291.655\t7490.98\n",
      "1  \t113   \t2102.33\t1512.11\t293.537\t7087   \n",
      "2  \t138   \t1238.02\t1205.58\t283.5  \t6852.04\n",
      "3  \t117   \t855.608\t1198.15\t283.932\t7033.91\n",
      "4  \t119   \t633.04 \t1029.28\t283.932\t6802.86\n",
      "5  \t128   \t677.839\t1131.34\t283.857\t6771.83\n",
      "6  \t106   \t532.665\t843.164\t283.703\t6807.55\n",
      "7  \t120   \t654.088\t1110.51\t282.746\t6819.85\n",
      "8  \t133   \t744.67 \t1230.3 \t282.703\t6801.12\n",
      "9  \t102   \t616.139\t929.756\t282.703\t4199.67\n",
      "10 \t107   \t526.859\t857.717\t282.703\t6819.85\n",
      "11 \t128   \t628.235\t963.553\t282.66 \t4196.95\n",
      "12 \t143   \t548.139\t817.567\t282.66 \t4145.7 \n",
      "13 \t131   \t541.557\t881.987\t282.194\t4196.54\n",
      "14 \t119   \t529.459\t778.25 \t282.194\t4199.66\n",
      "15 \t123   \t513.257\t743.884\t282.194\t4196.54\n",
      "16 \t115   \t458.762\t631.83 \t282.194\t3111.8 \n",
      "17 \t126   \t532.431\t749.31 \t282.194\t3148.8 \n",
      "18 \t122   \t548.314\t750.864\t282.194\t3148.8 \n",
      "19 \t119   \t484.948\t645.027\t282.194\t3111.8 \n",
      "20 \t125   \t479.33 \t622.732\t282.194\t3089.93\n",
      "21 \t115   \t494.6  \t640.19 \t282.194\t2721.4 \n",
      "22 \t112   \t409.578\t495.582\t282.194\t2716.58\n",
      "23 \t124   \t495.403\t628.519\t282.194\t2690.7 \n",
      "24 \t107   \t446.219\t584.952\t282.194\t2721.4 \n",
      "25 \t106   \t455.268\t580.852\t282.194\t2721.4 \n",
      "26 \t120   \t519.611\t653.514\t282.194\t2721.4 \n",
      "27 \t128   \t471.554\t610.557\t282.194\t2721.4 \n",
      "28 \t136   \t492.898\t633.49 \t282.194\t2721.4 \n",
      "29 \t114   \t446.643\t560.532\t282.194\t2721.4 \n",
      "30 \t126   \t475.723\t619.253\t282.194\t2721.4 \n",
      "31 \t124   \t452.649\t564.499\t282.194\t2716.58\n",
      "32 \t114   \t515.237\t664.391\t282.194\t2721.4 \n",
      "33 \t109   \t507.19 \t659.126\t282.194\t2716.58\n",
      "34 \t108   \t542.225\t689.374\t282.194\t2721.4 \n",
      "35 \t126   \t550.964\t679.004\t282.194\t2721.4 \n",
      "36 \t127   \t419.892\t503.383\t282.194\t2721.4 \n",
      "37 \t130   \t537.475\t683.012\t282.194\t2721.4 \n",
      "38 \t126   \t502.959\t640.25 \t282.194\t2721.4 \n",
      "39 \t120   \t486.457\t641.543\t282.194\t2721.4 \n",
      "40 \t113   \t547.375\t693.799\t282.194\t2721.4 \n",
      "[9.135096148109348, 2.2431558017356537, 3.407030504991493, 9.956052825351733]\n"
     ]
    }
   ],
   "source": [
    "def main():\n",
    "    random.seed(64)\n",
    "    \n",
    "    #create a population of size n\n",
    "    pop = toolbox.population(n=200)\n",
    "    hof = tools.HallOfFame(1)\n",
    "    stats = tools.Statistics(lambda ind: ind.fitness.values)\n",
    "    stats.register(\"avg\", np.mean)\n",
    "    stats.register(\"std\", np.std)\n",
    "    stats.register(\"min\", np.min)\n",
    "    stats.register(\"max\", np.max)\n",
    "\n",
    "    pop, log = algorithms.eaSimple(pop, toolbox, cxpb=0.5, mutpb=0.2, ngen=40, \n",
    "                                   stats=stats, halloffame=hof, verbose=True)\n",
    "\n",
    "    best=tools.selBest(pop,1)[0]\n",
    "    \n",
    "    print(best)\n",
    "    \n",
    "    return pop, stats, hof, best\n",
    "    \n",
    "if __name__ == \"__main__\":\n",
    "    res=main()\n"
   ]
  },
  {
   "cell_type": "markdown",
   "id": "3a3d0eb6",
   "metadata": {},
   "source": [
    "#### c. Compare Fitted Parameters to Dummy Data <a id='c'></a>"
   ]
  },
  {
   "cell_type": "code",
   "execution_count": 4,
   "id": "a2b67265",
   "metadata": {},
   "outputs": [
    {
     "name": "stdout",
     "output_type": "stream",
     "text": [
      "actual: [9, 3, 9, 2]\n",
      "fitted: [9.135096148109348, 2.2431558017356537, 3.407030504991493, 9.956052825351733]\n",
      "rmse: 282.19375774868143\n"
     ]
    },
    {
     "data": {
      "image/png": "[encoded data removed]",
      "text/plain": [
       "<Figure size 640x480 with 1 Axes>"
      ]
     },
     "metadata": {},
     "output_type": "display_data"
    }
   ],
   "source": [
    "#actual: [9, 3, 9, 2]\n",
    "\n",
    "print(\"actual: %s\" %pars)\n",
    "print(\"fitted: %s\" %res[-1])\n",
    "print(\"rmse: %s\" %rmse(res[-1]))\n",
    "\n",
    "y_fit=myFunc(res[-1])\n",
    "plt.plot(x,y,'.')\n",
    "plt.plot(x,y_fit)\n",
    "plt.show()\n"
   ]
  },
  {
   "cell_type": "markdown",
   "id": "42ac95f3",
   "metadata": {},
   "source": [
    "***"
   ]
  }
 ],
 "metadata": {
  "kernelspec": {
   "display_name": "ga_py39",
   "language": "python",
   "name": "ga_py39"
  },
  "language_info": {
   "codemirror_mode": {
    "name": "ipython",
    "version": 3
   },
   "file_extension": ".py",
   "mimetype": "text/x-python",
   "name": "python",
   "nbconvert_exporter": "python",
   "pygments_lexer": "ipython3",
   "version": "3.9.12"
  }
 },
 "nbformat": 4,
 "nbformat_minor": 5
}
